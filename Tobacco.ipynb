{
  "nbformat": 4,
  "nbformat_minor": 0,
  "metadata": {
    "colab": {
      "provenance": [],
      "authorship_tag": "ABX9TyMJt+3pWNQhsbh5PXY4tLHl",
      "include_colab_link": true
    },
    "kernelspec": {
      "name": "python3",
      "display_name": "Python 3"
    },
    "language_info": {
      "name": "python"
    }
  },
  "cells": [
    {
      "cell_type": "markdown",
      "metadata": {
        "id": "view-in-github",
        "colab_type": "text"
      },
      "source": [
        "<a href=\"https://colab.research.google.com/github/DenisKai7/tobacco/blob/model/Tobacco.ipynb\" target=\"_parent\"><img src=\"https://colab.research.google.com/assets/colab-badge.svg\" alt=\"Open In Colab\"/></a>"
      ]
    },
    {
      "cell_type": "code",
      "source": [
        "from google.colab import drive\n",
        "drive.mount('/content/drive')"
      ],
      "metadata": {
        "colab": {
          "base_uri": "https://localhost:8080/"
        },
        "id": "XxijMHYhRMN_",
        "outputId": "b3fe2eac-8edd-4711-b365-1a3911302efc"
      },
      "execution_count": 1,
      "outputs": [
        {
          "output_type": "stream",
          "name": "stdout",
          "text": [
            "Mounted at /content/drive\n"
          ]
        }
      ]
    },
    {
      "cell_type": "code",
      "source": [
        "dataset_path = '/content/drive/MyDrive/tobacco dataset'\n",
        "labels_csv_file = '_classes.csv'"
      ],
      "metadata": {
        "id": "OUo-KVsPSOyW"
      },
      "execution_count": 2,
      "outputs": []
    },
    {
      "cell_type": "code",
      "source": [
        "import os\n",
        "import cv2\n",
        "import numpy as np\n",
        "import pandas as pd\n",
        "import tensorflow as tf\n",
        "from tensorflow.keras.preprocessing.image import ImageDataGenerator\n",
        "from tensorflow.keras.models import Sequential\n",
        "from tensorflow.keras.layers import Conv2D, MaxPooling2D, Flatten, Dense, Dropout\n",
        "from tensorflow.keras.optimizers import Adam\n",
        "from sklearn.model_selection import train_test_split\n",
        "from sklearn.metrics import classification_report, confusion_matrix, accuracy_score, f1_score, precision_score, recall_score\n",
        "import matplotlib.pyplot as plt\n",
        "import seaborn as sns"
      ],
      "metadata": {
        "id": "whwg2RviS42C"
      },
      "execution_count": 3,
      "outputs": []
    },
    {
      "cell_type": "code",
      "source": [
        "full_labels_csv_path = os.path.join(dataset_path, labels_csv_file)\n"
      ],
      "metadata": {
        "id": "gsXrtojgS0zq"
      },
      "execution_count": 4,
      "outputs": []
    },
    {
      "cell_type": "code",
      "source": [
        "print(f\"TensorFlow Version: {tf.__version__}\")"
      ],
      "metadata": {
        "colab": {
          "base_uri": "https://localhost:8080/"
        },
        "id": "IpU40tsmTDRr",
        "outputId": "bd854183-4389-4ddf-f168-1f918bef4cf0"
      },
      "execution_count": 5,
      "outputs": [
        {
          "output_type": "stream",
          "name": "stdout",
          "text": [
            "TensorFlow Version: 2.18.0\n"
          ]
        }
      ]
    },
    {
      "cell_type": "code",
      "source": [
        "IMG_HEIGHT = 150\n",
        "IMG_WIDTH = 150\n",
        "BATCH_SIZE = 32\n",
        "EPOCHS = 30\n",
        "THRESHOLD = 0.5"
      ],
      "metadata": {
        "id": "3SDSkrmdTFv0"
      },
      "execution_count": 6,
      "outputs": []
    },
    {
      "cell_type": "code",
      "source": [
        "data = []\n",
        "labels_df = None\n",
        "image_filenames = []\n",
        "CLASS_NAMES = []\n",
        "NUM_CLASSES = 0\n",
        "\n",
        "try:\n",
        "    print(f\"Membaca file CSV dari: {full_labels_csv_path}\")\n",
        "    labels_df = pd.read_csv(full_labels_csv_path)\n",
        "    print(f\"Total entri dalam CSV: {len(labels_df)}\")\n",
        "\n",
        "    label_columns = labels_df.columns[1:].tolist()\n",
        "    CLASS_NAMES = label_columns\n",
        "    NUM_CLASSES = len(CLASS_NAMES)\n",
        "    print(f\"Ditemukan {NUM_CLASSES} kelas/label: {CLASS_NAMES}\")\n",
        "\n",
        "    for index, row in labels_df.iterrows():\n",
        "        filename = row['filename']\n",
        "        img_path = os.path.join(dataset_path, filename)\n",
        "\n",
        "        try:\n",
        "            img = cv2.imread(img_path)\n",
        "            if img is not None:\n",
        "                img = cv2.resize(img, (IMG_WIDTH, IMG_HEIGHT))\n",
        "                img = img / 255.0\n",
        "                data.append(img)\n",
        "                image_filenames.append(filename)\n",
        "            else:\n",
        "                print(f\"Peringatan: Tidak dapat membaca gambar (None Type) dari {img_path}. Lewati.\")\n",
        "        except Exception as e:\n",
        "            print(f\"Error memproses {img_path}: {e}. Lewati.\")\n",
        "\n",
        "    data = np.array(data)\n",
        "\n",
        "    labels_df_filtered = labels_df[labels_df['filename'].isin(image_filenames)].copy()\n",
        "    labels_df_filtered = labels_df_filtered.set_index('filename').loc[image_filenames].reset_index()\n",
        "\n",
        "    target = labels_df_filtered[label_columns].values.astype(np.float32)\n",
        "\n",
        "    print(f\"Total gambar yang berhasil dimuat dan diproses: {len(data)}\")\n",
        "    if len(data) == 0:\n",
        "        print(\"Tidak ada gambar yang berhasil dimuat. Pastikan jalur gambar di CSV dan folder dataset sudah benar.\")\n",
        "        raise SystemExit(\"Error: Tidak ada gambar yang berhasil dimuat. Periksa jalur dan integritas file.\")\n",
        "\n",
        "    X_train, X_temp, y_train, y_temp = train_test_split(\n",
        "        data, target, test_size=0.3, random_state=42\n",
        "    )\n",
        "    X_val, X_test, y_val, y_test = train_test_split(\n",
        "        X_temp, y_temp, test_size=0.5, random_state=42 )\n",
        "\n",
        "    print(f\"Ukuran data training: {len(X_train)} gambar\")\n",
        "    print(f\"Ukuran data validation: {len(X_val)} gambar\")\n",
        "    print(f\"Ukuran data test: {len(X_test)} gambar\")\n",
        "\n",
        "\n",
        "    train_datagen = ImageDataGenerator(\n",
        "        rotation_range=20,\n",
        "        width_shift_range=0.2,\n",
        "        height_shift_range=0.2,\n",
        "        shear_range=0.2,\n",
        "        zoom_range=0.2,\n",
        "        horizontal_flip=True,\n",
        "        fill_mode='nearest'\n",
        "    )\n",
        "    val_test_datagen = ImageDataGenerator()\n",
        "\n",
        "    train_generator = train_datagen.flow(X_train, y_train, batch_size=BATCH_SIZE)\n",
        "    validation_generator = val_test_datagen.flow(X_val, y_val, batch_size=BATCH_SIZE)\n",
        "\n",
        "except FileNotFoundError:\n",
        "    print(f\"Error: File CSV '{labels_csv_file}' tidak ditemukan di '{dataset_path}'.\")\n",
        "    print(\"Pastikan nama file CSV dan jalurnya benar.\")\n",
        "    raise SystemExit(\"Error: File CSV tidak ditemukan.\")\n",
        "except KeyError as e:\n",
        "    print(f\"Error: Kolom yang dibutuhkan ('filename' atau label-kolom lainnya) tidak ditemukan di CSV Anda. Detail: {e}\")\n",
        "    print(\"Pastikan CSV Anda memiliki kolom 'filename' dan nama-nama kolom label yang benar.\")\n",
        "    raise SystemExit(\"Error: Kolom CSV tidak ditemukan.\")\n",
        "except Exception as e:\n",
        "    print(f\"Terjadi kesalahan tak terduga selama pemrosesan data: {e}\")\n",
        "    raise SystemExit(f\"Error tak terduga saat memuat data: {e}\")\n"
      ],
      "metadata": {
        "colab": {
          "base_uri": "https://localhost:8080/"
        },
        "id": "RU92rPc0TtBI",
        "outputId": "267560ab-0278-4dc9-f948-085ad05f3fd9"
      },
      "execution_count": 7,
      "outputs": [
        {
          "output_type": "stream",
          "name": "stdout",
          "text": [
            "Membaca file CSV dari: /content/drive/MyDrive/tobacco dataset/_classes.csv\n",
            "Total entri dalam CSV: 1052\n",
            "Ditemukan 3 kelas/label: [' alternaria alternata', ' cercospora nicotianae', ' no cercospora nicotianae or alternaria alternata present']\n",
            "Peringatan: Tidak dapat membaca gambar (None Type) dari /content/drive/MyDrive/tobacco dataset/healthy-19-_jpg.rf.b9da9de7f23c1358984b7f5b9678c3be.jpg. Lewati.\n",
            "Peringatan: Tidak dapat membaca gambar (None Type) dari /content/drive/MyDrive/tobacco dataset/healthy-19-_jpg.rf.ca21b531209f1b4b74c3c76e8b9dd84c.jpg. Lewati.\n",
            "Peringatan: Tidak dapat membaca gambar (None Type) dari /content/drive/MyDrive/tobacco dataset/healthy-17-_jpg.rf.0233c58edbeb917f735ef3f569142207.jpg. Lewati.\n",
            "Peringatan: Tidak dapat membaca gambar (None Type) dari /content/drive/MyDrive/tobacco dataset/healthy-17-_jpg.rf.0609a0d02999d1420688015c7f4cd569.jpg. Lewati.\n",
            "Peringatan: Tidak dapat membaca gambar (None Type) dari /content/drive/MyDrive/tobacco dataset/healthy-17-_jpg.rf.0b4be654b3eb5c327775a586c4889e4d.jpg. Lewati.\n",
            "Peringatan: Tidak dapat membaca gambar (None Type) dari /content/drive/MyDrive/tobacco dataset/healthy-17-_jpg.rf.0d7001214a7943969b38a1aad53616be.jpg. Lewati.\n",
            "Peringatan: Tidak dapat membaca gambar (None Type) dari /content/drive/MyDrive/tobacco dataset/healthy-17-_jpg.rf.13d47f556138600bfc6b1684cf5fa805.jpg. Lewati.\n",
            "Peringatan: Tidak dapat membaca gambar (None Type) dari /content/drive/MyDrive/tobacco dataset/healthy-16-_jpg.rf.21bb1b37085f736b945dc03e556ad43f.jpg. Lewati.\n",
            "Peringatan: Tidak dapat membaca gambar (None Type) dari /content/drive/MyDrive/tobacco dataset/healthy-17-_jpg.rf.e10620449d386ca1ec4adbfd0e3850a0.jpg. Lewati.\n",
            "Peringatan: Tidak dapat membaca gambar (None Type) dari /content/drive/MyDrive/tobacco dataset/healthy-17-_jpg.rf.e314529da83f3691adeff4b6152f326c.jpg. Lewati.\n",
            "Peringatan: Tidak dapat membaca gambar (None Type) dari /content/drive/MyDrive/tobacco dataset/healthy-16-_jpg.rf.fbf6022728b99f2463f4b80857571fe7.jpg. Lewati.\n",
            "Peringatan: Tidak dapat membaca gambar (None Type) dari /content/drive/MyDrive/tobacco dataset/healthy-16-_jpg.rf.fce4a5fa6e5d1c6828e0326b97f50a15.jpg. Lewati.\n",
            "Peringatan: Tidak dapat membaca gambar (None Type) dari /content/drive/MyDrive/tobacco dataset/healthy-19-_jpg.rf.fca5c4782051fe6499be04107b24b1c8.jpg. Lewati.\n",
            "Peringatan: Tidak dapat membaca gambar (None Type) dari /content/drive/MyDrive/tobacco dataset/healthy-19-_jpg.rf.2be7ca86f5ca5818a8e599d98bb4d274.jpg. Lewati.\n",
            "Peringatan: Tidak dapat membaca gambar (None Type) dari /content/drive/MyDrive/tobacco dataset/healthy-16-_jpg.rf.3821fbcdfc074bd773fdf79dc79c14b2.jpg. Lewati.\n",
            "Peringatan: Tidak dapat membaca gambar (None Type) dari /content/drive/MyDrive/tobacco dataset/healthy-16-_jpg.rf.375408fedd372e15f4db10fbf3de6e7a.jpg. Lewati.\n",
            "Peringatan: Tidak dapat membaca gambar (None Type) dari /content/drive/MyDrive/tobacco dataset/healthy-19-_jpg.rf.3f6fdd79c5b2ba148600197d496980c2.jpg. Lewati.\n",
            "Peringatan: Tidak dapat membaca gambar (None Type) dari /content/drive/MyDrive/tobacco dataset/healthy-17-_jpg.rf.4a83204983c95db03cd4e018fa263e1f.jpg. Lewati.\n",
            "Peringatan: Tidak dapat membaca gambar (None Type) dari /content/drive/MyDrive/tobacco dataset/healthy-17-_jpg.rf.5b658c1925c59f77d758b9c201fe42f8.jpg. Lewati.\n",
            "Peringatan: Tidak dapat membaca gambar (None Type) dari /content/drive/MyDrive/tobacco dataset/healthy-19-_jpg.rf.668fb33f3b200e3d6d1d7d7543af59fe.jpg. Lewati.\n",
            "Peringatan: Tidak dapat membaca gambar (None Type) dari /content/drive/MyDrive/tobacco dataset/healthy-17-_jpg.rf.6deacd3cd554ec3cc300ac73c5122778.jpg. Lewati.\n",
            "Peringatan: Tidak dapat membaca gambar (None Type) dari /content/drive/MyDrive/tobacco dataset/healthy-16-_jpg.rf.705e4ddba0038a720ea13af26ccd7d08.jpg. Lewati.\n",
            "Peringatan: Tidak dapat membaca gambar (None Type) dari /content/drive/MyDrive/tobacco dataset/healthy-16-_jpg.rf.7dbffe35aca9fe98259217c49cd4d08d.jpg. Lewati.\n",
            "Peringatan: Tidak dapat membaca gambar (None Type) dari /content/drive/MyDrive/tobacco dataset/healthy-17-_jpg.rf.92c7b95f2f07e2ee297c3411b2e8a8d1.jpg. Lewati.\n",
            "Peringatan: Tidak dapat membaca gambar (None Type) dari /content/drive/MyDrive/tobacco dataset/healthy-17-_jpg.rf.99642d1faf0b4a36c5d9e820f3ec919e.jpg. Lewati.\n",
            "Peringatan: Tidak dapat membaca gambar (None Type) dari /content/drive/MyDrive/tobacco dataset/healthy-16-_jpg.rf.9eb8b5691ae037216065b82601755b7a.jpg. Lewati.\n",
            "Total gambar yang berhasil dimuat dan diproses: 1026\n",
            "Ukuran data training: 718 gambar\n",
            "Ukuran data validation: 154 gambar\n",
            "Ukuran data test: 154 gambar\n"
          ]
        }
      ]
    },
    {
      "cell_type": "code",
      "source": [
        "model = Sequential([\n",
        "    Conv2D(32, (3, 3), activation='relu', input_shape=(IMG_HEIGHT, IMG_WIDTH, 3)),\n",
        "    MaxPooling2D((2, 2)),\n",
        "    Conv2D(64, (3, 3), activation='relu'),\n",
        "    MaxPooling2D((2, 2)),\n",
        "    Conv2D(128, (3, 3), activation='relu'),\n",
        "    MaxPooling2D((2, 2)),\n",
        "    Flatten(),\n",
        "    Dense(512, activation='relu'),\n",
        "    Dropout(0.5),\n",
        "    Dense(NUM_CLASSES, activation='sigmoid')\n",
        "])"
      ],
      "metadata": {
        "colab": {
          "base_uri": "https://localhost:8080/"
        },
        "id": "bNH6FmFukise",
        "outputId": "f28f2fdb-4bf2-4cb9-e434-fb6350884876"
      },
      "execution_count": 8,
      "outputs": [
        {
          "output_type": "stream",
          "name": "stderr",
          "text": [
            "/usr/local/lib/python3.11/dist-packages/keras/src/layers/convolutional/base_conv.py:107: UserWarning: Do not pass an `input_shape`/`input_dim` argument to a layer. When using Sequential models, prefer using an `Input(shape)` object as the first layer in the model instead.\n",
            "  super().__init__(activity_regularizer=activity_regularizer, **kwargs)\n"
          ]
        }
      ]
    },
    {
      "cell_type": "code",
      "source": [
        "model.compile(optimizer=Adam(learning_rate=0.001),\n",
        "              loss='binary_crossentropy',\n",
        "              metrics=['accuracy'])\n",
        "\n",
        "model.summary()"
      ],
      "metadata": {
        "colab": {
          "base_uri": "https://localhost:8080/",
          "height": 449
        },
        "id": "oiB-JtvLkzu4",
        "outputId": "36b2157d-186d-48a6-c5e6-eacd1b7ce9ef"
      },
      "execution_count": 9,
      "outputs": [
        {
          "output_type": "display_data",
          "data": {
            "text/plain": [
              "\u001b[1mModel: \"sequential\"\u001b[0m\n"
            ],
            "text/html": [
              "<pre style=\"white-space:pre;overflow-x:auto;line-height:normal;font-family:Menlo,'DejaVu Sans Mono',consolas,'Courier New',monospace\"><span style=\"font-weight: bold\">Model: \"sequential\"</span>\n",
              "</pre>\n"
            ]
          },
          "metadata": {}
        },
        {
          "output_type": "display_data",
          "data": {
            "text/plain": [
              "┏━━━━━━━━━━━━━━━━━━━━━━━━━━━━━━━━━┳━━━━━━━━━━━━━━━━━━━━━━━━┳━━━━━━━━━━━━━━━┓\n",
              "┃\u001b[1m \u001b[0m\u001b[1mLayer (type)                   \u001b[0m\u001b[1m \u001b[0m┃\u001b[1m \u001b[0m\u001b[1mOutput Shape          \u001b[0m\u001b[1m \u001b[0m┃\u001b[1m \u001b[0m\u001b[1m      Param #\u001b[0m\u001b[1m \u001b[0m┃\n",
              "┡━━━━━━━━━━━━━━━━━━━━━━━━━━━━━━━━━╇━━━━━━━━━━━━━━━━━━━━━━━━╇━━━━━━━━━━━━━━━┩\n",
              "│ conv2d (\u001b[38;5;33mConv2D\u001b[0m)                 │ (\u001b[38;5;45mNone\u001b[0m, \u001b[38;5;34m148\u001b[0m, \u001b[38;5;34m148\u001b[0m, \u001b[38;5;34m32\u001b[0m)   │           \u001b[38;5;34m896\u001b[0m │\n",
              "├─────────────────────────────────┼────────────────────────┼───────────────┤\n",
              "│ max_pooling2d (\u001b[38;5;33mMaxPooling2D\u001b[0m)    │ (\u001b[38;5;45mNone\u001b[0m, \u001b[38;5;34m74\u001b[0m, \u001b[38;5;34m74\u001b[0m, \u001b[38;5;34m32\u001b[0m)     │             \u001b[38;5;34m0\u001b[0m │\n",
              "├─────────────────────────────────┼────────────────────────┼───────────────┤\n",
              "│ conv2d_1 (\u001b[38;5;33mConv2D\u001b[0m)               │ (\u001b[38;5;45mNone\u001b[0m, \u001b[38;5;34m72\u001b[0m, \u001b[38;5;34m72\u001b[0m, \u001b[38;5;34m64\u001b[0m)     │        \u001b[38;5;34m18,496\u001b[0m │\n",
              "├─────────────────────────────────┼────────────────────────┼───────────────┤\n",
              "│ max_pooling2d_1 (\u001b[38;5;33mMaxPooling2D\u001b[0m)  │ (\u001b[38;5;45mNone\u001b[0m, \u001b[38;5;34m36\u001b[0m, \u001b[38;5;34m36\u001b[0m, \u001b[38;5;34m64\u001b[0m)     │             \u001b[38;5;34m0\u001b[0m │\n",
              "├─────────────────────────────────┼────────────────────────┼───────────────┤\n",
              "│ conv2d_2 (\u001b[38;5;33mConv2D\u001b[0m)               │ (\u001b[38;5;45mNone\u001b[0m, \u001b[38;5;34m34\u001b[0m, \u001b[38;5;34m34\u001b[0m, \u001b[38;5;34m128\u001b[0m)    │        \u001b[38;5;34m73,856\u001b[0m │\n",
              "├─────────────────────────────────┼────────────────────────┼───────────────┤\n",
              "│ max_pooling2d_2 (\u001b[38;5;33mMaxPooling2D\u001b[0m)  │ (\u001b[38;5;45mNone\u001b[0m, \u001b[38;5;34m17\u001b[0m, \u001b[38;5;34m17\u001b[0m, \u001b[38;5;34m128\u001b[0m)    │             \u001b[38;5;34m0\u001b[0m │\n",
              "├─────────────────────────────────┼────────────────────────┼───────────────┤\n",
              "│ flatten (\u001b[38;5;33mFlatten\u001b[0m)               │ (\u001b[38;5;45mNone\u001b[0m, \u001b[38;5;34m36992\u001b[0m)          │             \u001b[38;5;34m0\u001b[0m │\n",
              "├─────────────────────────────────┼────────────────────────┼───────────────┤\n",
              "│ dense (\u001b[38;5;33mDense\u001b[0m)                   │ (\u001b[38;5;45mNone\u001b[0m, \u001b[38;5;34m512\u001b[0m)            │    \u001b[38;5;34m18,940,416\u001b[0m │\n",
              "├─────────────────────────────────┼────────────────────────┼───────────────┤\n",
              "│ dropout (\u001b[38;5;33mDropout\u001b[0m)               │ (\u001b[38;5;45mNone\u001b[0m, \u001b[38;5;34m512\u001b[0m)            │             \u001b[38;5;34m0\u001b[0m │\n",
              "├─────────────────────────────────┼────────────────────────┼───────────────┤\n",
              "│ dense_1 (\u001b[38;5;33mDense\u001b[0m)                 │ (\u001b[38;5;45mNone\u001b[0m, \u001b[38;5;34m3\u001b[0m)              │         \u001b[38;5;34m1,539\u001b[0m │\n",
              "└─────────────────────────────────┴────────────────────────┴───────────────┘\n"
            ],
            "text/html": [
              "<pre style=\"white-space:pre;overflow-x:auto;line-height:normal;font-family:Menlo,'DejaVu Sans Mono',consolas,'Courier New',monospace\">┏━━━━━━━━━━━━━━━━━━━━━━━━━━━━━━━━━┳━━━━━━━━━━━━━━━━━━━━━━━━┳━━━━━━━━━━━━━━━┓\n",
              "┃<span style=\"font-weight: bold\"> Layer (type)                    </span>┃<span style=\"font-weight: bold\"> Output Shape           </span>┃<span style=\"font-weight: bold\">       Param # </span>┃\n",
              "┡━━━━━━━━━━━━━━━━━━━━━━━━━━━━━━━━━╇━━━━━━━━━━━━━━━━━━━━━━━━╇━━━━━━━━━━━━━━━┩\n",
              "│ conv2d (<span style=\"color: #0087ff; text-decoration-color: #0087ff\">Conv2D</span>)                 │ (<span style=\"color: #00d7ff; text-decoration-color: #00d7ff\">None</span>, <span style=\"color: #00af00; text-decoration-color: #00af00\">148</span>, <span style=\"color: #00af00; text-decoration-color: #00af00\">148</span>, <span style=\"color: #00af00; text-decoration-color: #00af00\">32</span>)   │           <span style=\"color: #00af00; text-decoration-color: #00af00\">896</span> │\n",
              "├─────────────────────────────────┼────────────────────────┼───────────────┤\n",
              "│ max_pooling2d (<span style=\"color: #0087ff; text-decoration-color: #0087ff\">MaxPooling2D</span>)    │ (<span style=\"color: #00d7ff; text-decoration-color: #00d7ff\">None</span>, <span style=\"color: #00af00; text-decoration-color: #00af00\">74</span>, <span style=\"color: #00af00; text-decoration-color: #00af00\">74</span>, <span style=\"color: #00af00; text-decoration-color: #00af00\">32</span>)     │             <span style=\"color: #00af00; text-decoration-color: #00af00\">0</span> │\n",
              "├─────────────────────────────────┼────────────────────────┼───────────────┤\n",
              "│ conv2d_1 (<span style=\"color: #0087ff; text-decoration-color: #0087ff\">Conv2D</span>)               │ (<span style=\"color: #00d7ff; text-decoration-color: #00d7ff\">None</span>, <span style=\"color: #00af00; text-decoration-color: #00af00\">72</span>, <span style=\"color: #00af00; text-decoration-color: #00af00\">72</span>, <span style=\"color: #00af00; text-decoration-color: #00af00\">64</span>)     │        <span style=\"color: #00af00; text-decoration-color: #00af00\">18,496</span> │\n",
              "├─────────────────────────────────┼────────────────────────┼───────────────┤\n",
              "│ max_pooling2d_1 (<span style=\"color: #0087ff; text-decoration-color: #0087ff\">MaxPooling2D</span>)  │ (<span style=\"color: #00d7ff; text-decoration-color: #00d7ff\">None</span>, <span style=\"color: #00af00; text-decoration-color: #00af00\">36</span>, <span style=\"color: #00af00; text-decoration-color: #00af00\">36</span>, <span style=\"color: #00af00; text-decoration-color: #00af00\">64</span>)     │             <span style=\"color: #00af00; text-decoration-color: #00af00\">0</span> │\n",
              "├─────────────────────────────────┼────────────────────────┼───────────────┤\n",
              "│ conv2d_2 (<span style=\"color: #0087ff; text-decoration-color: #0087ff\">Conv2D</span>)               │ (<span style=\"color: #00d7ff; text-decoration-color: #00d7ff\">None</span>, <span style=\"color: #00af00; text-decoration-color: #00af00\">34</span>, <span style=\"color: #00af00; text-decoration-color: #00af00\">34</span>, <span style=\"color: #00af00; text-decoration-color: #00af00\">128</span>)    │        <span style=\"color: #00af00; text-decoration-color: #00af00\">73,856</span> │\n",
              "├─────────────────────────────────┼────────────────────────┼───────────────┤\n",
              "│ max_pooling2d_2 (<span style=\"color: #0087ff; text-decoration-color: #0087ff\">MaxPooling2D</span>)  │ (<span style=\"color: #00d7ff; text-decoration-color: #00d7ff\">None</span>, <span style=\"color: #00af00; text-decoration-color: #00af00\">17</span>, <span style=\"color: #00af00; text-decoration-color: #00af00\">17</span>, <span style=\"color: #00af00; text-decoration-color: #00af00\">128</span>)    │             <span style=\"color: #00af00; text-decoration-color: #00af00\">0</span> │\n",
              "├─────────────────────────────────┼────────────────────────┼───────────────┤\n",
              "│ flatten (<span style=\"color: #0087ff; text-decoration-color: #0087ff\">Flatten</span>)               │ (<span style=\"color: #00d7ff; text-decoration-color: #00d7ff\">None</span>, <span style=\"color: #00af00; text-decoration-color: #00af00\">36992</span>)          │             <span style=\"color: #00af00; text-decoration-color: #00af00\">0</span> │\n",
              "├─────────────────────────────────┼────────────────────────┼───────────────┤\n",
              "│ dense (<span style=\"color: #0087ff; text-decoration-color: #0087ff\">Dense</span>)                   │ (<span style=\"color: #00d7ff; text-decoration-color: #00d7ff\">None</span>, <span style=\"color: #00af00; text-decoration-color: #00af00\">512</span>)            │    <span style=\"color: #00af00; text-decoration-color: #00af00\">18,940,416</span> │\n",
              "├─────────────────────────────────┼────────────────────────┼───────────────┤\n",
              "│ dropout (<span style=\"color: #0087ff; text-decoration-color: #0087ff\">Dropout</span>)               │ (<span style=\"color: #00d7ff; text-decoration-color: #00d7ff\">None</span>, <span style=\"color: #00af00; text-decoration-color: #00af00\">512</span>)            │             <span style=\"color: #00af00; text-decoration-color: #00af00\">0</span> │\n",
              "├─────────────────────────────────┼────────────────────────┼───────────────┤\n",
              "│ dense_1 (<span style=\"color: #0087ff; text-decoration-color: #0087ff\">Dense</span>)                 │ (<span style=\"color: #00d7ff; text-decoration-color: #00d7ff\">None</span>, <span style=\"color: #00af00; text-decoration-color: #00af00\">3</span>)              │         <span style=\"color: #00af00; text-decoration-color: #00af00\">1,539</span> │\n",
              "└─────────────────────────────────┴────────────────────────┴───────────────┘\n",
              "</pre>\n"
            ]
          },
          "metadata": {}
        },
        {
          "output_type": "display_data",
          "data": {
            "text/plain": [
              "\u001b[1m Total params: \u001b[0m\u001b[38;5;34m19,035,203\u001b[0m (72.61 MB)\n"
            ],
            "text/html": [
              "<pre style=\"white-space:pre;overflow-x:auto;line-height:normal;font-family:Menlo,'DejaVu Sans Mono',consolas,'Courier New',monospace\"><span style=\"font-weight: bold\"> Total params: </span><span style=\"color: #00af00; text-decoration-color: #00af00\">19,035,203</span> (72.61 MB)\n",
              "</pre>\n"
            ]
          },
          "metadata": {}
        },
        {
          "output_type": "display_data",
          "data": {
            "text/plain": [
              "\u001b[1m Trainable params: \u001b[0m\u001b[38;5;34m19,035,203\u001b[0m (72.61 MB)\n"
            ],
            "text/html": [
              "<pre style=\"white-space:pre;overflow-x:auto;line-height:normal;font-family:Menlo,'DejaVu Sans Mono',consolas,'Courier New',monospace\"><span style=\"font-weight: bold\"> Trainable params: </span><span style=\"color: #00af00; text-decoration-color: #00af00\">19,035,203</span> (72.61 MB)\n",
              "</pre>\n"
            ]
          },
          "metadata": {}
        },
        {
          "output_type": "display_data",
          "data": {
            "text/plain": [
              "\u001b[1m Non-trainable params: \u001b[0m\u001b[38;5;34m0\u001b[0m (0.00 B)\n"
            ],
            "text/html": [
              "<pre style=\"white-space:pre;overflow-x:auto;line-height:normal;font-family:Menlo,'DejaVu Sans Mono',consolas,'Courier New',monospace\"><span style=\"font-weight: bold\"> Non-trainable params: </span><span style=\"color: #00af00; text-decoration-color: #00af00\">0</span> (0.00 B)\n",
              "</pre>\n"
            ]
          },
          "metadata": {}
        }
      ]
    },
    {
      "cell_type": "code",
      "source": [
        "print(\"\\nMemulai pelatihan model...\")\n",
        "history = model.fit(\n",
        "    train_generator,\n",
        "    steps_per_epoch=len(X_train) // BATCH_SIZE,\n",
        "    epochs=EPOCHS,\n",
        "    validation_data=validation_generator,\n",
        "    validation_steps=len(X_val) // BATCH_SIZE\n",
        ")"
      ],
      "metadata": {
        "colab": {
          "base_uri": "https://localhost:8080/"
        },
        "id": "9kJpNaA_k_O5",
        "outputId": "65765e06-fa99-428b-dcfb-978713708ee3"
      },
      "execution_count": 10,
      "outputs": [
        {
          "output_type": "stream",
          "name": "stdout",
          "text": [
            "\n",
            "Memulai pelatihan model...\n"
          ]
        },
        {
          "output_type": "stream",
          "name": "stderr",
          "text": [
            "/usr/local/lib/python3.11/dist-packages/keras/src/trainers/data_adapters/py_dataset_adapter.py:121: UserWarning: Your `PyDataset` class should call `super().__init__(**kwargs)` in its constructor. `**kwargs` can include `workers`, `use_multiprocessing`, `max_queue_size`. Do not pass these arguments to `fit()`, as they will be ignored.\n",
            "  self._warn_if_super_not_called()\n"
          ]
        },
        {
          "output_type": "stream",
          "name": "stdout",
          "text": [
            "Epoch 1/30\n",
            "\u001b[1m22/22\u001b[0m \u001b[32m━━━━━━━━━━━━━━━━━━━━\u001b[0m\u001b[37m\u001b[0m \u001b[1m47s\u001b[0m 2s/step - accuracy: 0.3986 - loss: 0.8724 - val_accuracy: 0.4922 - val_loss: 0.5689\n",
            "Epoch 2/30\n",
            "\u001b[1m 1/22\u001b[0m \u001b[37m━━━━━━━━━━━━━━━━━━━━\u001b[0m \u001b[1m32s\u001b[0m 2s/step - accuracy: 0.2188 - loss: 0.6555"
          ]
        },
        {
          "output_type": "stream",
          "name": "stderr",
          "text": [
            "/usr/local/lib/python3.11/dist-packages/keras/src/trainers/epoch_iterator.py:107: UserWarning: Your input ran out of data; interrupting training. Make sure that your dataset or generator can generate at least `steps_per_epoch * epochs` batches. You may need to use the `.repeat()` function when building your dataset.\n",
            "  self._interrupted_warning()\n"
          ]
        },
        {
          "output_type": "stream",
          "name": "stdout",
          "text": [
            "\b\b\b\b\b\b\b\b\b\b\b\b\b\b\b\b\b\b\b\b\b\b\b\b\b\b\b\b\b\b\b\b\b\b\b\b\b\b\b\b\b\b\b\b\b\b\b\b\b\b\b\b\b\b\b\b\b\b\b\b\b\b\b\b\b\b\b\b\b\b\b\b\r\u001b[1m22/22\u001b[0m \u001b[32m━━━━━━━━━━━━━━━━━━━━\u001b[0m\u001b[37m\u001b[0m \u001b[1m5s\u001b[0m 168ms/step - accuracy: 0.2188 - loss: 0.6555 - val_accuracy: 0.3672 - val_loss: 0.5565\n",
            "Epoch 3/30\n",
            "\u001b[1m22/22\u001b[0m \u001b[32m━━━━━━━━━━━━━━━━━━━━\u001b[0m\u001b[37m\u001b[0m \u001b[1m82s\u001b[0m 4s/step - accuracy: 0.5110 - loss: 0.5536 - val_accuracy: 0.4531 - val_loss: 0.5450\n",
            "Epoch 4/30\n",
            "\u001b[1m22/22\u001b[0m \u001b[32m━━━━━━━━━━━━━━━━━━━━\u001b[0m\u001b[37m\u001b[0m \u001b[1m5s\u001b[0m 153ms/step - accuracy: 0.5000 - loss: 0.5834 - val_accuracy: 0.4531 - val_loss: 0.5508\n",
            "Epoch 5/30\n",
            "\u001b[1m22/22\u001b[0m \u001b[32m━━━━━━━━━━━━━━━━━━━━\u001b[0m\u001b[37m\u001b[0m \u001b[1m99s\u001b[0m 2s/step - accuracy: 0.5640 - loss: 0.5032 - val_accuracy: 0.4531 - val_loss: 0.5437\n",
            "Epoch 6/30\n",
            "\u001b[1m22/22\u001b[0m \u001b[32m━━━━━━━━━━━━━━━━━━━━\u001b[0m\u001b[37m\u001b[0m \u001b[1m3s\u001b[0m 90ms/step - accuracy: 0.5312 - loss: 0.5836 - val_accuracy: 0.4609 - val_loss: 0.5288\n",
            "Epoch 7/30\n",
            "\u001b[1m22/22\u001b[0m \u001b[32m━━━━━━━━━━━━━━━━━━━━\u001b[0m\u001b[37m\u001b[0m \u001b[1m83s\u001b[0m 4s/step - accuracy: 0.5990 - loss: 0.5073 - val_accuracy: 0.4688 - val_loss: 0.4779\n",
            "Epoch 8/30\n",
            "\u001b[1m22/22\u001b[0m \u001b[32m━━━━━━━━━━━━━━━━━━━━\u001b[0m\u001b[37m\u001b[0m \u001b[1m4s\u001b[0m 78ms/step - accuracy: 0.6562 - loss: 0.4206 - val_accuracy: 0.4844 - val_loss: 0.4949\n",
            "Epoch 9/30\n",
            "\u001b[1m22/22\u001b[0m \u001b[32m━━━━━━━━━━━━━━━━━━━━\u001b[0m\u001b[37m\u001b[0m \u001b[1m142s\u001b[0m 4s/step - accuracy: 0.6521 - loss: 0.4336 - val_accuracy: 0.5859 - val_loss: 0.4737\n",
            "Epoch 10/30\n",
            "\u001b[1m22/22\u001b[0m \u001b[32m━━━━━━━━━━━━━━━━━━━━\u001b[0m\u001b[37m\u001b[0m \u001b[1m5s\u001b[0m 171ms/step - accuracy: 0.5625 - loss: 0.4782 - val_accuracy: 0.5625 - val_loss: 0.4538\n",
            "Epoch 11/30\n",
            "\u001b[1m22/22\u001b[0m \u001b[32m━━━━━━━━━━━━━━━━━━━━\u001b[0m\u001b[37m\u001b[0m \u001b[1m142s\u001b[0m 4s/step - accuracy: 0.6233 - loss: 0.4362 - val_accuracy: 0.5781 - val_loss: 0.5481\n",
            "Epoch 12/30\n",
            "\u001b[1m22/22\u001b[0m \u001b[32m━━━━━━━━━━━━━━━━━━━━\u001b[0m\u001b[37m\u001b[0m \u001b[1m5s\u001b[0m 164ms/step - accuracy: 0.6875 - loss: 0.3909 - val_accuracy: 0.5859 - val_loss: 0.4939\n",
            "Epoch 13/30\n",
            "\u001b[1m22/22\u001b[0m \u001b[32m━━━━━━━━━━━━━━━━━━━━\u001b[0m\u001b[37m\u001b[0m \u001b[1m44s\u001b[0m 2s/step - accuracy: 0.6706 - loss: 0.4139 - val_accuracy: 0.6484 - val_loss: 0.4320\n",
            "Epoch 14/30\n",
            "\u001b[1m22/22\u001b[0m \u001b[32m━━━━━━━━━━━━━━━━━━━━\u001b[0m\u001b[37m\u001b[0m \u001b[1m5s\u001b[0m 157ms/step - accuracy: 0.7812 - loss: 0.3233 - val_accuracy: 0.5938 - val_loss: 0.4512\n",
            "Epoch 15/30\n",
            "\u001b[1m22/22\u001b[0m \u001b[32m━━━━━━━━━━━━━━━━━━━━\u001b[0m\u001b[37m\u001b[0m \u001b[1m43s\u001b[0m 2s/step - accuracy: 0.6993 - loss: 0.3993 - val_accuracy: 0.6484 - val_loss: 0.3695\n",
            "Epoch 16/30\n",
            "\u001b[1m22/22\u001b[0m \u001b[32m━━━━━━━━━━━━━━━━━━━━\u001b[0m\u001b[37m\u001b[0m \u001b[1m6s\u001b[0m 225ms/step - accuracy: 0.7500 - loss: 0.3343 - val_accuracy: 0.6094 - val_loss: 0.3987\n",
            "Epoch 17/30\n",
            "\u001b[1m22/22\u001b[0m \u001b[32m━━━━━━━━━━━━━━━━━━━━\u001b[0m\u001b[37m\u001b[0m \u001b[1m81s\u001b[0m 4s/step - accuracy: 0.6736 - loss: 0.4059 - val_accuracy: 0.6719 - val_loss: 0.4327\n",
            "Epoch 18/30\n",
            "\u001b[1m22/22\u001b[0m \u001b[32m━━━━━━━━━━━━━━━━━━━━\u001b[0m\u001b[37m\u001b[0m \u001b[1m5s\u001b[0m 155ms/step - accuracy: 0.6250 - loss: 0.4273 - val_accuracy: 0.6328 - val_loss: 0.4701\n",
            "Epoch 19/30\n",
            "\u001b[1m22/22\u001b[0m \u001b[32m━━━━━━━━━━━━━━━━━━━━\u001b[0m\u001b[37m\u001b[0m \u001b[1m82s\u001b[0m 4s/step - accuracy: 0.7494 - loss: 0.3544 - val_accuracy: 0.6328 - val_loss: 0.4717\n",
            "Epoch 20/30\n",
            "\u001b[1m22/22\u001b[0m \u001b[32m━━━━━━━━━━━━━━━━━━━━\u001b[0m\u001b[37m\u001b[0m \u001b[1m4s\u001b[0m 98ms/step - accuracy: 0.6250 - loss: 0.4581 - val_accuracy: 0.6250 - val_loss: 0.4908\n",
            "Epoch 21/30\n",
            "\u001b[1m22/22\u001b[0m \u001b[32m━━━━━━━━━━━━━━━━━━━━\u001b[0m\u001b[37m\u001b[0m \u001b[1m100s\u001b[0m 2s/step - accuracy: 0.7321 - loss: 0.3306 - val_accuracy: 0.6875 - val_loss: 0.3623\n",
            "Epoch 22/30\n",
            "\u001b[1m22/22\u001b[0m \u001b[32m━━━━━━━━━━━━━━━━━━━━\u001b[0m\u001b[37m\u001b[0m \u001b[1m3s\u001b[0m 79ms/step - accuracy: 0.7812 - loss: 0.3176 - val_accuracy: 0.7344 - val_loss: 0.3517\n",
            "Epoch 23/30\n",
            "\u001b[1m22/22\u001b[0m \u001b[32m━━━━━━━━━━━━━━━━━━━━\u001b[0m\u001b[37m\u001b[0m \u001b[1m79s\u001b[0m 2s/step - accuracy: 0.7780 - loss: 0.3021 - val_accuracy: 0.7656 - val_loss: 0.3094\n",
            "Epoch 24/30\n",
            "\u001b[1m22/22\u001b[0m \u001b[32m━━━━━━━━━━━━━━━━━━━━\u001b[0m\u001b[37m\u001b[0m \u001b[1m6s\u001b[0m 222ms/step - accuracy: 0.7812 - loss: 0.3066 - val_accuracy: 0.7422 - val_loss: 0.3273\n",
            "Epoch 25/30\n",
            "\u001b[1m22/22\u001b[0m \u001b[32m━━━━━━━━━━━━━━━━━━━━\u001b[0m\u001b[37m\u001b[0m \u001b[1m82s\u001b[0m 2s/step - accuracy: 0.7746 - loss: 0.3124 - val_accuracy: 0.7969 - val_loss: 0.3664\n",
            "Epoch 26/30\n",
            "\u001b[1m22/22\u001b[0m \u001b[32m━━━━━━━━━━━━━━━━━━━━\u001b[0m\u001b[37m\u001b[0m \u001b[1m4s\u001b[0m 108ms/step - accuracy: 0.6562 - loss: 0.4366 - val_accuracy: 0.7734 - val_loss: 0.3558\n",
            "Epoch 27/30\n",
            "\u001b[1m22/22\u001b[0m \u001b[32m━━━━━━━━━━━━━━━━━━━━\u001b[0m\u001b[37m\u001b[0m \u001b[1m44s\u001b[0m 2s/step - accuracy: 0.8031 - loss: 0.3104 - val_accuracy: 0.7188 - val_loss: 0.4036\n",
            "Epoch 28/30\n",
            "\u001b[1m22/22\u001b[0m \u001b[32m━━━━━━━━━━━━━━━━━━━━\u001b[0m\u001b[37m\u001b[0m \u001b[1m5s\u001b[0m 171ms/step - accuracy: 0.7812 - loss: 0.2590 - val_accuracy: 0.7188 - val_loss: 0.4050\n",
            "Epoch 29/30\n",
            "\u001b[1m22/22\u001b[0m \u001b[32m━━━━━━━━━━━━━━━━━━━━\u001b[0m\u001b[37m\u001b[0m \u001b[1m82s\u001b[0m 2s/step - accuracy: 0.8148 - loss: 0.2630 - val_accuracy: 0.7500 - val_loss: 0.2911\n",
            "Epoch 30/30\n",
            "\u001b[1m22/22\u001b[0m \u001b[32m━━━━━━━━━━━━━━━━━━━━\u001b[0m\u001b[37m\u001b[0m \u001b[1m5s\u001b[0m 122ms/step - accuracy: 0.9062 - loss: 0.1770 - val_accuracy: 0.7812 - val_loss: 0.2899\n"
          ]
        }
      ]
    },
    {
      "cell_type": "code",
      "source": [
        "print(\"\\nMengevaluasi model pada test set...\")\n",
        "loss, accuracy = model.evaluate(X_test, y_test, verbose=1)\n",
        "print(f\"Test Loss: {loss:.4f}\")\n",
        "print(f\"Test Subset Accuracy: {accuracy:.4f}\")"
      ],
      "metadata": {
        "colab": {
          "base_uri": "https://localhost:8080/"
        },
        "id": "uEELNc7EvwGx",
        "outputId": "f35b660e-3fca-4e9e-ce8d-3610fb887525"
      },
      "execution_count": 11,
      "outputs": [
        {
          "output_type": "stream",
          "name": "stdout",
          "text": [
            "\n",
            "Mengevaluasi model pada test set...\n",
            "\u001b[1m5/5\u001b[0m \u001b[32m━━━━━━━━━━━━━━━━━━━━\u001b[0m\u001b[37m\u001b[0m \u001b[1m3s\u001b[0m 612ms/step - accuracy: 0.7984 - loss: 0.2516\n",
            "Test Loss: 0.2708\n",
            "Test Subset Accuracy: 0.7792\n"
          ]
        }
      ]
    },
    {
      "cell_type": "code",
      "source": [
        "y_pred_probs = model.predict(X_test)\n",
        "\n",
        "y_pred_binary = (y_pred_probs > THRESHOLD).astype(int)\n",
        "\n",
        "print(\"\\nDetail Evaluasi Multi-Label:\")\n",
        "\n",
        "print(\"Classification Report (per label, ambang batas 0.5):\")\n",
        "print(classification_report(y_test, y_pred_binary, target_names=CLASS_NAMES, zero_division=0))"
      ],
      "metadata": {
        "id": "NpOTuIuWv_zy",
        "outputId": "2bf7efab-156f-4f01-fdc1-0f8f43a9f00c",
        "colab": {
          "base_uri": "https://localhost:8080/"
        }
      },
      "execution_count": 13,
      "outputs": [
        {
          "output_type": "stream",
          "name": "stdout",
          "text": [
            "\u001b[1m5/5\u001b[0m \u001b[32m━━━━━━━━━━━━━━━━━━━━\u001b[0m\u001b[37m\u001b[0m \u001b[1m2s\u001b[0m 372ms/step\n",
            "\n",
            "Detail Evaluasi Multi-Label:\n",
            "Classification Report (per label, ambang batas 0.5):\n",
            "                                                           precision    recall  f1-score   support\n",
            "\n",
            "                                     alternaria alternata       0.64      0.77      0.70        47\n",
            "                                    cercospora nicotianae       0.81      0.66      0.73        71\n",
            " no cercospora nicotianae or alternaria alternata present       0.92      0.94      0.93        36\n",
            "\n",
            "                                                micro avg       0.77      0.76      0.77       154\n",
            "                                                macro avg       0.79      0.79      0.79       154\n",
            "                                             weighted avg       0.78      0.76      0.77       154\n",
            "                                              samples avg       0.75      0.76      0.75       154\n",
            "\n"
          ]
        }
      ]
    },
    {
      "cell_type": "code",
      "source": [
        "print(\"\\nConfusion Matrix per Label:\")\n",
        "for i, class_name in enumerate(CLASS_NAMES):\n",
        "    print(f\"\\nLabel: {class_name}\")\n",
        "    cm = confusion_matrix(y_test[:, i], y_pred_binary[:, i])\n",
        "    plt.figure(figsize=(4, 3))\n",
        "    sns.heatmap(cm, annot=True, fmt='d', cmap='Blues',\n",
        "                xticklabels=['Predicted 0', 'Predicted 1'],\n",
        "                yticklabels=['True 0', 'True 1'])\n",
        "    plt.title(f'Confusion Matrix for {class_name}')\n",
        "    plt.show()"
      ],
      "metadata": {
        "id": "1MElPgIWwkGQ",
        "outputId": "1aa6ce84-04a9-4b91-f5da-0c304de4f322",
        "colab": {
          "base_uri": "https://localhost:8080/",
          "height": 1000
        }
      },
      "execution_count": 14,
      "outputs": [
        {
          "output_type": "stream",
          "name": "stdout",
          "text": [
            "\n",
            "Confusion Matrix per Label:\n",
            "\n",
            "Label:  alternaria alternata\n"
          ]
        },
        {
          "output_type": "display_data",
          "data": {
            "text/plain": [
              "<Figure size 400x300 with 2 Axes>"
            ],
            "image/png": "[encoded data removed]"
          },
          "metadata": {}
        },
        {
          "output_type": "stream",
          "name": "stdout",
          "text": [
            "\n",
            "Label:  cercospora nicotianae\n"
          ]
        },
        {
          "output_type": "display_data",
          "data": {
            "text/plain": [
              "<Figure size 400x300 with 2 Axes>"
            ],
            "image/png": "[encoded data removed]"
          },
          "metadata": {}
        },
        {
          "output_type": "stream",
          "name": "stdout",
          "text": [
            "\n",
            "Label:  no cercospora nicotianae or alternaria alternata present\n"
          ]
        },
        {
          "output_type": "display_data",
          "data": {
            "text/plain": [
              "<Figure size 400x300 with 2 Axes>"
            ],
            "image/png": "[encoded data removed]"
          },
          "metadata": {}
        }
      ]
    }
  ]
}