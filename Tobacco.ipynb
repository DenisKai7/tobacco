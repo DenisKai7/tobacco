{
  "nbformat": 4,
  "nbformat_minor": 0,
  "metadata": {
    "colab": {
      "provenance": [],
      "authorship_tag": "ABX9TyO1rrSi0UFSsIAg+KjpPiLc",
      "include_colab_link": true
    },
    "kernelspec": {
      "name": "python3",
      "display_name": "Python 3"
    },
    "language_info": {
      "name": "python"
    }
  },
  "cells": [
    {
      "cell_type": "markdown",
      "metadata": {
        "id": "view-in-github",
        "colab_type": "text"
      },
      "source": [
        "<a href=\"https://colab.research.google.com/github/DenisKai7/tobacco/blob/model/Tobacco.ipynb\" target=\"_parent\"><img src=\"https://colab.research.google.com/assets/colab-badge.svg\" alt=\"Open In Colab\"/></a>"
      ]
    },
    {
      "cell_type": "code",
      "source": [
        "from google.colab import drive\n",
        "drive.mount('/content/drive')"
      ],
      "metadata": {
        "colab": {
          "base_uri": "https://localhost:8080/"
        },
        "id": "XxijMHYhRMN_",
        "outputId": "b3fe2eac-8edd-4711-b365-1a3911302efc"
      },
      "execution_count": 1,
      "outputs": [
        {
          "output_type": "stream",
          "name": "stdout",
          "text": [
            "Mounted at /content/drive\n"
          ]
        }
      ]
    },
    {
      "cell_type": "code",
      "source": [
        "dataset_path = '/content/drive/MyDrive/tobacco dataset'\n",
        "labels_csv_file = '_classes.csv'"
      ],
      "metadata": {
        "id": "OUo-KVsPSOyW"
      },
      "execution_count": 2,
      "outputs": []
    },
    {
      "cell_type": "code",
      "source": [
        "import os\n",
        "import cv2\n",
        "import numpy as np\n",
        "import pandas as pd\n",
        "import tensorflow as tf\n",
        "from tensorflow.keras.preprocessing.image import ImageDataGenerator\n",
        "from tensorflow.keras.models import Sequential\n",
        "from tensorflow.keras.layers import Conv2D, MaxPooling2D, Flatten, Dense, Dropout\n",
        "from tensorflow.keras.optimizers import Adam\n",
        "from sklearn.model_selection import train_test_split\n",
        "from sklearn.metrics import classification_report, confusion_matrix, accuracy_score, f1_score, precision_score, recall_score\n",
        "import matplotlib.pyplot as plt\n",
        "import seaborn as sns"
      ],
      "metadata": {
        "id": "whwg2RviS42C"
      },
      "execution_count": 3,
      "outputs": []
    },
    {
      "cell_type": "code",
      "source": [
        "full_labels_csv_path = os.path.join(dataset_path, labels_csv_file)\n"
      ],
      "metadata": {
        "id": "gsXrtojgS0zq"
      },
      "execution_count": 4,
      "outputs": []
    },
    {
      "cell_type": "code",
      "source": [
        "print(f\"TensorFlow Version: {tf.__version__}\")"
      ],
      "metadata": {
        "colab": {
          "base_uri": "https://localhost:8080/"
        },
        "id": "IpU40tsmTDRr",
        "outputId": "bd854183-4389-4ddf-f168-1f918bef4cf0"
      },
      "execution_count": 5,
      "outputs": [
        {
          "output_type": "stream",
          "name": "stdout",
          "text": [
            "TensorFlow Version: 2.18.0\n"
          ]
        }
      ]
    },
    {
      "cell_type": "code",
      "source": [
        "IMG_HEIGHT = 150\n",
        "IMG_WIDTH = 150\n",
        "BATCH_SIZE = 32\n",
        "EPOCHS = 30\n",
        "THRESHOLD = 0.5"
      ],
      "metadata": {
        "id": "3SDSkrmdTFv0"
      },
      "execution_count": 6,
      "outputs": []
    },
    {
      "cell_type": "code",
      "source": [
        "data = []\n",
        "labels_df = None\n",
        "image_filenames = []\n",
        "CLASS_NAMES = []\n",
        "NUM_CLASSES = 0\n",
        "\n",
        "try:\n",
        "    print(f\"Membaca file CSV dari: {full_labels_csv_path}\")\n",
        "    labels_df = pd.read_csv(full_labels_csv_path)\n",
        "    print(f\"Total entri dalam CSV: {len(labels_df)}\")\n",
        "\n",
        "    label_columns = labels_df.columns[1:].tolist()\n",
        "    CLASS_NAMES = label_columns\n",
        "    NUM_CLASSES = len(CLASS_NAMES)\n",
        "    print(f\"Ditemukan {NUM_CLASSES} kelas/label: {CLASS_NAMES}\")\n",
        "\n",
        "    for index, row in labels_df.iterrows():\n",
        "        filename = row['filename']\n",
        "        img_path = os.path.join(dataset_path, filename)\n",
        "\n",
        "        try:\n",
        "            img = cv2.imread(img_path)\n",
        "            if img is not None:\n",
        "                img = cv2.resize(img, (IMG_WIDTH, IMG_HEIGHT))\n",
        "                img = img / 255.0\n",
        "                data.append(img)\n",
        "                image_filenames.append(filename)\n",
        "            else:\n",
        "                print(f\"Peringatan: Tidak dapat membaca gambar (None Type) dari {img_path}. Lewati.\")\n",
        "        except Exception as e:\n",
        "            print(f\"Error memproses {img_path}: {e}. Lewati.\")\n",
        "\n",
        "    data = np.array(data)\n",
        "\n",
        "    labels_df_filtered = labels_df[labels_df['filename'].isin(image_filenames)].copy()\n",
        "    labels_df_filtered = labels_df_filtered.set_index('filename').loc[image_filenames].reset_index()\n",
        "\n",
        "    target = labels_df_filtered[label_columns].values.astype(np.float32)\n",
        "\n",
        "    print(f\"Total gambar yang berhasil dimuat dan diproses: {len(data)}\")\n",
        "    if len(data) == 0:\n",
        "        print(\"Tidak ada gambar yang berhasil dimuat. Pastikan jalur gambar di CSV dan folder dataset sudah benar.\")\n",
        "        raise SystemExit(\"Error: Tidak ada gambar yang berhasil dimuat. Periksa jalur dan integritas file.\")\n",
        "\n",
        "    X_train, X_temp, y_train, y_temp = train_test_split(\n",
        "        data, target, test_size=0.3, random_state=42\n",
        "    )\n",
        "    X_val, X_test, y_val, y_test = train_test_split(\n",
        "        X_temp, y_temp, test_size=0.5, random_state=42 )\n",
        "\n",
        "    print(f\"Ukuran data training: {len(X_train)} gambar\")\n",
        "    print(f\"Ukuran data validation: {len(X_val)} gambar\")\n",
        "    print(f\"Ukuran data test: {len(X_test)} gambar\")\n",
        "\n",
        "\n",
        "    train_datagen = ImageDataGenerator(\n",
        "        rotation_range=20,\n",
        "        width_shift_range=0.2,\n",
        "        height_shift_range=0.2,\n",
        "        shear_range=0.2,\n",
        "        zoom_range=0.2,\n",
        "        horizontal_flip=True,\n",
        "        fill_mode='nearest'\n",
        "    )\n",
        "    val_test_datagen = ImageDataGenerator()\n",
        "\n",
        "    train_generator = train_datagen.flow(X_train, y_train, batch_size=BATCH_SIZE)\n",
        "    validation_generator = val_test_datagen.flow(X_val, y_val, batch_size=BATCH_SIZE)\n",
        "\n",
        "except FileNotFoundError:\n",
        "    print(f\"Error: File CSV '{labels_csv_file}' tidak ditemukan di '{dataset_path}'.\")\n",
        "    print(\"Pastikan nama file CSV dan jalurnya benar.\")\n",
        "    raise SystemExit(\"Error: File CSV tidak ditemukan.\")\n",
        "except KeyError as e:\n",
        "    print(f\"Error: Kolom yang dibutuhkan ('filename' atau label-kolom lainnya) tidak ditemukan di CSV Anda. Detail: {e}\")\n",
        "    print(\"Pastikan CSV Anda memiliki kolom 'filename' dan nama-nama kolom label yang benar.\")\n",
        "    raise SystemExit(\"Error: Kolom CSV tidak ditemukan.\")\n",
        "except Exception as e:\n",
        "    print(f\"Terjadi kesalahan tak terduga selama pemrosesan data: {e}\")\n",
        "    raise SystemExit(f\"Error tak terduga saat memuat data: {e}\")\n"
      ],
      "metadata": {
        "colab": {
          "base_uri": "https://localhost:8080/"
        },
        "id": "RU92rPc0TtBI",
        "outputId": "267560ab-0278-4dc9-f948-085ad05f3fd9"
      },
      "execution_count": 7,
      "outputs": [
        {
          "output_type": "stream",
          "name": "stdout",
          "text": [
            "Membaca file CSV dari: /content/drive/MyDrive/tobacco dataset/_classes.csv\n",
            "Total entri dalam CSV: 1052\n",
            "Ditemukan 3 kelas/label: [' alternaria alternata', ' cercospora nicotianae', ' no cercospora nicotianae or alternaria alternata present']\n",
            "Peringatan: Tidak dapat membaca gambar (None Type) dari /content/drive/MyDrive/tobacco dataset/healthy-19-_jpg.rf.b9da9de7f23c1358984b7f5b9678c3be.jpg. Lewati.\n",
            "Peringatan: Tidak dapat membaca gambar (None Type) dari /content/drive/MyDrive/tobacco dataset/healthy-19-_jpg.rf.ca21b531209f1b4b74c3c76e8b9dd84c.jpg. Lewati.\n",
            "Peringatan: Tidak dapat membaca gambar (None Type) dari /content/drive/MyDrive/tobacco dataset/healthy-17-_jpg.rf.0233c58edbeb917f735ef3f569142207.jpg. Lewati.\n",
            "Peringatan: Tidak dapat membaca gambar (None Type) dari /content/drive/MyDrive/tobacco dataset/healthy-17-_jpg.rf.0609a0d02999d1420688015c7f4cd569.jpg. Lewati.\n",
            "Peringatan: Tidak dapat membaca gambar (None Type) dari /content/drive/MyDrive/tobacco dataset/healthy-17-_jpg.rf.0b4be654b3eb5c327775a586c4889e4d.jpg. Lewati.\n",
            "Peringatan: Tidak dapat membaca gambar (None Type) dari /content/drive/MyDrive/tobacco dataset/healthy-17-_jpg.rf.0d7001214a7943969b38a1aad53616be.jpg. Lewati.\n",
            "Peringatan: Tidak dapat membaca gambar (None Type) dari /content/drive/MyDrive/tobacco dataset/healthy-17-_jpg.rf.13d47f556138600bfc6b1684cf5fa805.jpg. Lewati.\n",
            "Peringatan: Tidak dapat membaca gambar (None Type) dari /content/drive/MyDrive/tobacco dataset/healthy-16-_jpg.rf.21bb1b37085f736b945dc03e556ad43f.jpg. Lewati.\n",
            "Peringatan: Tidak dapat membaca gambar (None Type) dari /content/drive/MyDrive/tobacco dataset/healthy-17-_jpg.rf.e10620449d386ca1ec4adbfd0e3850a0.jpg. Lewati.\n",
            "Peringatan: Tidak dapat membaca gambar (None Type) dari /content/drive/MyDrive/tobacco dataset/healthy-17-_jpg.rf.e314529da83f3691adeff4b6152f326c.jpg. Lewati.\n",
            "Peringatan: Tidak dapat membaca gambar (None Type) dari /content/drive/MyDrive/tobacco dataset/healthy-16-_jpg.rf.fbf6022728b99f2463f4b80857571fe7.jpg. Lewati.\n",
            "Peringatan: Tidak dapat membaca gambar (None Type) dari /content/drive/MyDrive/tobacco dataset/healthy-16-_jpg.rf.fce4a5fa6e5d1c6828e0326b97f50a15.jpg. Lewati.\n",
            "Peringatan: Tidak dapat membaca gambar (None Type) dari /content/drive/MyDrive/tobacco dataset/healthy-19-_jpg.rf.fca5c4782051fe6499be04107b24b1c8.jpg. Lewati.\n",
            "Peringatan: Tidak dapat membaca gambar (None Type) dari /content/drive/MyDrive/tobacco dataset/healthy-19-_jpg.rf.2be7ca86f5ca5818a8e599d98bb4d274.jpg. Lewati.\n",
            "Peringatan: Tidak dapat membaca gambar (None Type) dari /content/drive/MyDrive/tobacco dataset/healthy-16-_jpg.rf.3821fbcdfc074bd773fdf79dc79c14b2.jpg. Lewati.\n",
            "Peringatan: Tidak dapat membaca gambar (None Type) dari /content/drive/MyDrive/tobacco dataset/healthy-16-_jpg.rf.375408fedd372e15f4db10fbf3de6e7a.jpg. Lewati.\n",
            "Peringatan: Tidak dapat membaca gambar (None Type) dari /content/drive/MyDrive/tobacco dataset/healthy-19-_jpg.rf.3f6fdd79c5b2ba148600197d496980c2.jpg. Lewati.\n",
            "Peringatan: Tidak dapat membaca gambar (None Type) dari /content/drive/MyDrive/tobacco dataset/healthy-17-_jpg.rf.4a83204983c95db03cd4e018fa263e1f.jpg. Lewati.\n",
            "Peringatan: Tidak dapat membaca gambar (None Type) dari /content/drive/MyDrive/tobacco dataset/healthy-17-_jpg.rf.5b658c1925c59f77d758b9c201fe42f8.jpg. Lewati.\n",
            "Peringatan: Tidak dapat membaca gambar (None Type) dari /content/drive/MyDrive/tobacco dataset/healthy-19-_jpg.rf.668fb33f3b200e3d6d1d7d7543af59fe.jpg. Lewati.\n",
            "Peringatan: Tidak dapat membaca gambar (None Type) dari /content/drive/MyDrive/tobacco dataset/healthy-17-_jpg.rf.6deacd3cd554ec3cc300ac73c5122778.jpg. Lewati.\n",
            "Peringatan: Tidak dapat membaca gambar (None Type) dari /content/drive/MyDrive/tobacco dataset/healthy-16-_jpg.rf.705e4ddba0038a720ea13af26ccd7d08.jpg. Lewati.\n",
            "Peringatan: Tidak dapat membaca gambar (None Type) dari /content/drive/MyDrive/tobacco dataset/healthy-16-_jpg.rf.7dbffe35aca9fe98259217c49cd4d08d.jpg. Lewati.\n",
            "Peringatan: Tidak dapat membaca gambar (None Type) dari /content/drive/MyDrive/tobacco dataset/healthy-17-_jpg.rf.92c7b95f2f07e2ee297c3411b2e8a8d1.jpg. Lewati.\n",
            "Peringatan: Tidak dapat membaca gambar (None Type) dari /content/drive/MyDrive/tobacco dataset/healthy-17-_jpg.rf.99642d1faf0b4a36c5d9e820f3ec919e.jpg. Lewati.\n",
            "Peringatan: Tidak dapat membaca gambar (None Type) dari /content/drive/MyDrive/tobacco dataset/healthy-16-_jpg.rf.9eb8b5691ae037216065b82601755b7a.jpg. Lewati.\n",
            "Total gambar yang berhasil dimuat dan diproses: 1026\n",
            "Ukuran data training: 718 gambar\n",
            "Ukuran data validation: 154 gambar\n",
            "Ukuran data test: 154 gambar\n"
          ]
        }
      ]
    },
    {
      "cell_type": "code",
      "source": [
        "model = Sequential([\n",
        "    Conv2D(32, (3, 3), activation='relu', input_shape=(IMG_HEIGHT, IMG_WIDTH, 3)),\n",
        "    MaxPooling2D((2, 2)),\n",
        "    Conv2D(64, (3, 3), activation='relu'),\n",
        "    MaxPooling2D((2, 2)),\n",
        "    Conv2D(128, (3, 3), activation='relu'),\n",
        "    MaxPooling2D((2, 2)),\n",
        "    Flatten(),\n",
        "    Dense(512, activation='relu'),\n",
        "    Dropout(0.5),\n",
        "    Dense(NUM_CLASSES, activation='sigmoid')\n",
        "])"
      ],
      "metadata": {
        "colab": {
          "base_uri": "https://localhost:8080/"
        },
        "id": "bNH6FmFukise",
        "outputId": "f28f2fdb-4bf2-4cb9-e434-fb6350884876"
      },
      "execution_count": 8,
      "outputs": [
        {
          "output_type": "stream",
          "name": "stderr",
          "text": [
            "/usr/local/lib/python3.11/dist-packages/keras/src/layers/convolutional/base_conv.py:107: UserWarning: Do not pass an `input_shape`/`input_dim` argument to a layer. When using Sequential models, prefer using an `Input(shape)` object as the first layer in the model instead.\n",
            "  super().__init__(activity_regularizer=activity_regularizer, **kwargs)\n"
          ]
        }
      ]
    },
    {
      "cell_type": "code",
      "source": [
        "model.compile(optimizer=Adam(learning_rate=0.001),\n",
        "              loss='binary_crossentropy',\n",
        "              metrics=['accuracy'])\n",
        "\n",
        "model.summary()"
      ],
      "metadata": {
        "id": "oiB-JtvLkzu4",
        "outputId": "36b2157d-186d-48a6-c5e6-eacd1b7ce9ef",
        "colab": {
          "base_uri": "https://localhost:8080/",
          "height": 449
        }
      },
      "execution_count": 9,
      "outputs": [
        {
          "output_type": "display_data",
          "data": {
            "text/plain": [
              "\u001b[1mModel: \"sequential\"\u001b[0m\n"
            ],
            "text/html": [
              "<pre style=\"white-space:pre;overflow-x:auto;line-height:normal;font-family:Menlo,'DejaVu Sans Mono',consolas,'Courier New',monospace\"><span style=\"font-weight: bold\">Model: \"sequential\"</span>\n",
              "</pre>\n"
            ]
          },
          "metadata": {}
        },
        {
          "output_type": "display_data",
          "data": {
            "text/plain": [
              "┏━━━━━━━━━━━━━━━━━━━━━━━━━━━━━━━━━┳━━━━━━━━━━━━━━━━━━━━━━━━┳━━━━━━━━━━━━━━━┓\n",
              "┃\u001b[1m \u001b[0m\u001b[1mLayer (type)                   \u001b[0m\u001b[1m \u001b[0m┃\u001b[1m \u001b[0m\u001b[1mOutput Shape          \u001b[0m\u001b[1m \u001b[0m┃\u001b[1m \u001b[0m\u001b[1m      Param #\u001b[0m\u001b[1m \u001b[0m┃\n",
              "┡━━━━━━━━━━━━━━━━━━━━━━━━━━━━━━━━━╇━━━━━━━━━━━━━━━━━━━━━━━━╇━━━━━━━━━━━━━━━┩\n",
              "│ conv2d (\u001b[38;5;33mConv2D\u001b[0m)                 │ (\u001b[38;5;45mNone\u001b[0m, \u001b[38;5;34m148\u001b[0m, \u001b[38;5;34m148\u001b[0m, \u001b[38;5;34m32\u001b[0m)   │           \u001b[38;5;34m896\u001b[0m │\n",
              "├─────────────────────────────────┼────────────────────────┼───────────────┤\n",
              "│ max_pooling2d (\u001b[38;5;33mMaxPooling2D\u001b[0m)    │ (\u001b[38;5;45mNone\u001b[0m, \u001b[38;5;34m74\u001b[0m, \u001b[38;5;34m74\u001b[0m, \u001b[38;5;34m32\u001b[0m)     │             \u001b[38;5;34m0\u001b[0m │\n",
              "├─────────────────────────────────┼────────────────────────┼───────────────┤\n",
              "│ conv2d_1 (\u001b[38;5;33mConv2D\u001b[0m)               │ (\u001b[38;5;45mNone\u001b[0m, \u001b[38;5;34m72\u001b[0m, \u001b[38;5;34m72\u001b[0m, \u001b[38;5;34m64\u001b[0m)     │        \u001b[38;5;34m18,496\u001b[0m │\n",
              "├─────────────────────────────────┼────────────────────────┼───────────────┤\n",
              "│ max_pooling2d_1 (\u001b[38;5;33mMaxPooling2D\u001b[0m)  │ (\u001b[38;5;45mNone\u001b[0m, \u001b[38;5;34m36\u001b[0m, \u001b[38;5;34m36\u001b[0m, \u001b[38;5;34m64\u001b[0m)     │             \u001b[38;5;34m0\u001b[0m │\n",
              "├─────────────────────────────────┼────────────────────────┼───────────────┤\n",
              "│ conv2d_2 (\u001b[38;5;33mConv2D\u001b[0m)               │ (\u001b[38;5;45mNone\u001b[0m, \u001b[38;5;34m34\u001b[0m, \u001b[38;5;34m34\u001b[0m, \u001b[38;5;34m128\u001b[0m)    │        \u001b[38;5;34m73,856\u001b[0m │\n",
              "├─────────────────────────────────┼────────────────────────┼───────────────┤\n",
              "│ max_pooling2d_2 (\u001b[38;5;33mMaxPooling2D\u001b[0m)  │ (\u001b[38;5;45mNone\u001b[0m, \u001b[38;5;34m17\u001b[0m, \u001b[38;5;34m17\u001b[0m, \u001b[38;5;34m128\u001b[0m)    │             \u001b[38;5;34m0\u001b[0m │\n",
              "├─────────────────────────────────┼────────────────────────┼───────────────┤\n",
              "│ flatten (\u001b[38;5;33mFlatten\u001b[0m)               │ (\u001b[38;5;45mNone\u001b[0m, \u001b[38;5;34m36992\u001b[0m)          │             \u001b[38;5;34m0\u001b[0m │\n",
              "├─────────────────────────────────┼────────────────────────┼───────────────┤\n",
              "│ dense (\u001b[38;5;33mDense\u001b[0m)                   │ (\u001b[38;5;45mNone\u001b[0m, \u001b[38;5;34m512\u001b[0m)            │    \u001b[38;5;34m18,940,416\u001b[0m │\n",
              "├─────────────────────────────────┼────────────────────────┼───────────────┤\n",
              "│ dropout (\u001b[38;5;33mDropout\u001b[0m)               │ (\u001b[38;5;45mNone\u001b[0m, \u001b[38;5;34m512\u001b[0m)            │             \u001b[38;5;34m0\u001b[0m │\n",
              "├─────────────────────────────────┼────────────────────────┼───────────────┤\n",
              "│ dense_1 (\u001b[38;5;33mDense\u001b[0m)                 │ (\u001b[38;5;45mNone\u001b[0m, \u001b[38;5;34m3\u001b[0m)              │         \u001b[38;5;34m1,539\u001b[0m │\n",
              "└─────────────────────────────────┴────────────────────────┴───────────────┘\n"
            ],
            "text/html": [
              "<pre style=\"white-space:pre;overflow-x:auto;line-height:normal;font-family:Menlo,'DejaVu Sans Mono',consolas,'Courier New',monospace\">┏━━━━━━━━━━━━━━━━━━━━━━━━━━━━━━━━━┳━━━━━━━━━━━━━━━━━━━━━━━━┳━━━━━━━━━━━━━━━┓\n",
              "┃<span style=\"font-weight: bold\"> Layer (type)                    </span>┃<span style=\"font-weight: bold\"> Output Shape           </span>┃<span style=\"font-weight: bold\">       Param # </span>┃\n",
              "┡━━━━━━━━━━━━━━━━━━━━━━━━━━━━━━━━━╇━━━━━━━━━━━━━━━━━━━━━━━━╇━━━━━━━━━━━━━━━┩\n",
              "│ conv2d (<span style=\"color: #0087ff; text-decoration-color: #0087ff\">Conv2D</span>)                 │ (<span style=\"color: #00d7ff; text-decoration-color: #00d7ff\">None</span>, <span style=\"color: #00af00; text-decoration-color: #00af00\">148</span>, <span style=\"color: #00af00; text-decoration-color: #00af00\">148</span>, <span style=\"color: #00af00; text-decoration-color: #00af00\">32</span>)   │           <span style=\"color: #00af00; text-decoration-color: #00af00\">896</span> │\n",
              "├─────────────────────────────────┼────────────────────────┼───────────────┤\n",
              "│ max_pooling2d (<span style=\"color: #0087ff; text-decoration-color: #0087ff\">MaxPooling2D</span>)    │ (<span style=\"color: #00d7ff; text-decoration-color: #00d7ff\">None</span>, <span style=\"color: #00af00; text-decoration-color: #00af00\">74</span>, <span style=\"color: #00af00; text-decoration-color: #00af00\">74</span>, <span style=\"color: #00af00; text-decoration-color: #00af00\">32</span>)     │             <span style=\"color: #00af00; text-decoration-color: #00af00\">0</span> │\n",
              "├─────────────────────────────────┼────────────────────────┼───────────────┤\n",
              "│ conv2d_1 (<span style=\"color: #0087ff; text-decoration-color: #0087ff\">Conv2D</span>)               │ (<span style=\"color: #00d7ff; text-decoration-color: #00d7ff\">None</span>, <span style=\"color: #00af00; text-decoration-color: #00af00\">72</span>, <span style=\"color: #00af00; text-decoration-color: #00af00\">72</span>, <span style=\"color: #00af00; text-decoration-color: #00af00\">64</span>)     │        <span style=\"color: #00af00; text-decoration-color: #00af00\">18,496</span> │\n",
              "├─────────────────────────────────┼────────────────────────┼───────────────┤\n",
              "│ max_pooling2d_1 (<span style=\"color: #0087ff; text-decoration-color: #0087ff\">MaxPooling2D</span>)  │ (<span style=\"color: #00d7ff; text-decoration-color: #00d7ff\">None</span>, <span style=\"color: #00af00; text-decoration-color: #00af00\">36</span>, <span style=\"color: #00af00; text-decoration-color: #00af00\">36</span>, <span style=\"color: #00af00; text-decoration-color: #00af00\">64</span>)     │             <span style=\"color: #00af00; text-decoration-color: #00af00\">0</span> │\n",
              "├─────────────────────────────────┼────────────────────────┼───────────────┤\n",
              "│ conv2d_2 (<span style=\"color: #0087ff; text-decoration-color: #0087ff\">Conv2D</span>)               │ (<span style=\"color: #00d7ff; text-decoration-color: #00d7ff\">None</span>, <span style=\"color: #00af00; text-decoration-color: #00af00\">34</span>, <span style=\"color: #00af00; text-decoration-color: #00af00\">34</span>, <span style=\"color: #00af00; text-decoration-color: #00af00\">128</span>)    │        <span style=\"color: #00af00; text-decoration-color: #00af00\">73,856</span> │\n",
              "├─────────────────────────────────┼────────────────────────┼───────────────┤\n",
              "│ max_pooling2d_2 (<span style=\"color: #0087ff; text-decoration-color: #0087ff\">MaxPooling2D</span>)  │ (<span style=\"color: #00d7ff; text-decoration-color: #00d7ff\">None</span>, <span style=\"color: #00af00; text-decoration-color: #00af00\">17</span>, <span style=\"color: #00af00; text-decoration-color: #00af00\">17</span>, <span style=\"color: #00af00; text-decoration-color: #00af00\">128</span>)    │             <span style=\"color: #00af00; text-decoration-color: #00af00\">0</span> │\n",
              "├─────────────────────────────────┼────────────────────────┼───────────────┤\n",
              "│ flatten (<span style=\"color: #0087ff; text-decoration-color: #0087ff\">Flatten</span>)               │ (<span style=\"color: #00d7ff; text-decoration-color: #00d7ff\">None</span>, <span style=\"color: #00af00; text-decoration-color: #00af00\">36992</span>)          │             <span style=\"color: #00af00; text-decoration-color: #00af00\">0</span> │\n",
              "├─────────────────────────────────┼────────────────────────┼───────────────┤\n",
              "│ dense (<span style=\"color: #0087ff; text-decoration-color: #0087ff\">Dense</span>)                   │ (<span style=\"color: #00d7ff; text-decoration-color: #00d7ff\">None</span>, <span style=\"color: #00af00; text-decoration-color: #00af00\">512</span>)            │    <span style=\"color: #00af00; text-decoration-color: #00af00\">18,940,416</span> │\n",
              "├─────────────────────────────────┼────────────────────────┼───────────────┤\n",
              "│ dropout (<span style=\"color: #0087ff; text-decoration-color: #0087ff\">Dropout</span>)               │ (<span style=\"color: #00d7ff; text-decoration-color: #00d7ff\">None</span>, <span style=\"color: #00af00; text-decoration-color: #00af00\">512</span>)            │             <span style=\"color: #00af00; text-decoration-color: #00af00\">0</span> │\n",
              "├─────────────────────────────────┼────────────────────────┼───────────────┤\n",
              "│ dense_1 (<span style=\"color: #0087ff; text-decoration-color: #0087ff\">Dense</span>)                 │ (<span style=\"color: #00d7ff; text-decoration-color: #00d7ff\">None</span>, <span style=\"color: #00af00; text-decoration-color: #00af00\">3</span>)              │         <span style=\"color: #00af00; text-decoration-color: #00af00\">1,539</span> │\n",
              "└─────────────────────────────────┴────────────────────────┴───────────────┘\n",
              "</pre>\n"
            ]
          },
          "metadata": {}
        },
        {
          "output_type": "display_data",
          "data": {
            "text/plain": [
              "\u001b[1m Total params: \u001b[0m\u001b[38;5;34m19,035,203\u001b[0m (72.61 MB)\n"
            ],
            "text/html": [
              "<pre style=\"white-space:pre;overflow-x:auto;line-height:normal;font-family:Menlo,'DejaVu Sans Mono',consolas,'Courier New',monospace\"><span style=\"font-weight: bold\"> Total params: </span><span style=\"color: #00af00; text-decoration-color: #00af00\">19,035,203</span> (72.61 MB)\n",
              "</pre>\n"
            ]
          },
          "metadata": {}
        },
        {
          "output_type": "display_data",
          "data": {
            "text/plain": [
              "\u001b[1m Trainable params: \u001b[0m\u001b[38;5;34m19,035,203\u001b[0m (72.61 MB)\n"
            ],
            "text/html": [
              "<pre style=\"white-space:pre;overflow-x:auto;line-height:normal;font-family:Menlo,'DejaVu Sans Mono',consolas,'Courier New',monospace\"><span style=\"font-weight: bold\"> Trainable params: </span><span style=\"color: #00af00; text-decoration-color: #00af00\">19,035,203</span> (72.61 MB)\n",
              "</pre>\n"
            ]
          },
          "metadata": {}
        },
        {
          "output_type": "display_data",
          "data": {
            "text/plain": [
              "\u001b[1m Non-trainable params: \u001b[0m\u001b[38;5;34m0\u001b[0m (0.00 B)\n"
            ],
            "text/html": [
              "<pre style=\"white-space:pre;overflow-x:auto;line-height:normal;font-family:Menlo,'DejaVu Sans Mono',consolas,'Courier New',monospace\"><span style=\"font-weight: bold\"> Non-trainable params: </span><span style=\"color: #00af00; text-decoration-color: #00af00\">0</span> (0.00 B)\n",
              "</pre>\n"
            ]
          },
          "metadata": {}
        }
      ]
    }
  ]
}