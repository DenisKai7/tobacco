{
  "nbformat": 4,
  "nbformat_minor": 0,
  "metadata": {
    "colab": {
      "provenance": [],
      "authorship_tag": "ABX9TyMKjY8sD72XYM8Zy0cvJW8t",
      "include_colab_link": true
    },
    "kernelspec": {
      "name": "python3",
      "display_name": "Python 3"
    },
    "language_info": {
      "name": "python"
    }
  },
  "cells": [
    {
      "cell_type": "markdown",
      "metadata": {
        "id": "view-in-github",
        "colab_type": "text"
      },
      "source": [
        "<a href=\"https://colab.research.google.com/github/DenisKai7/tobacco/blob/model/Tobacco.ipynb\" target=\"_parent\"><img src=\"https://colab.research.google.com/assets/colab-badge.svg\" alt=\"Open In Colab\"/></a>"
      ]
    },
    {
      "cell_type": "code",
      "execution_count": null,
      "metadata": {
        "id": "PySychxzqDQS"
      },
      "outputs": [],
      "source": [
        "import tensorflow as tf\n",
        "from tensorflow.keras.preprocessing.image import ImageDataGenerator\n",
        "from tensorflow.keras.models import Sequential\n",
        "from tensorflow.keras.layers import Conv2D, MaxPooling2D, Flatten, Dense, Dropout\n",
        "from tensorflow.keras.optimizers import Adam\n",
        "from sklearn.metrics import classification_report, confusion_matrix\n",
        "import matplotlib.pyplot as plt\n",
        "import numpy as np\n",
        "import os\n",
        "import shutil\n",
        "import pandas as pd\n",
        "\n",
        "# --- 1. Data Loading and Pre-processing ---\n",
        "\n",
        "\n",
        "IMAGE_SIZE = (128, 128)\n",
        "BATCH_SIZE = 32\n",
        "EPOCHS = 20\n",
        "\n",
        "# Mount Google Drive (for saving the model)\n",
        "from google.colab import drive\n",
        "drive.mount('/content/drive')\n",
        "\n",
        "# Clone the GitHub repository\n",
        "\n",
        "print(\"Cloning the GitHub repository...\")\n",
        "!git clone https://github.com/DenisKai7/tobacco.git\n",
        "\n",
        "\n",
        "data_dir = '/content/tobacco/datasets/train'\n",
        "classes_csv_path = os.path.join(data_dir, '_classes.csv')\n",
        "\n",
        "# Check if the data directory exists\n",
        "if not os.path.exists(data_dir):\n",
        "    print(f\"Error: Data directory not found at {data_dir}. Please ensure the repository structure is correct.\")\n",
        "    # Attempt to list content for debugging\n",
        "    print(f\"Content of /content/tobacco: {os.listdir('/content/tobacco')}\")\n",
        "    if os.path.exists('/content/tobacco/datasets'):\n",
        "        print(f\"Content of /content/tobacco/datasets: {os.listdir('/content/tobacco/datasets')}\")\n",
        "    exit()\n",
        "\n",
        "# Read class names from _classes.csv\n",
        "class_names = []\n",
        "if os.path.exists(classes_csv_path):\n",
        "    print(f\"Found _classes.csv at: {classes_csv_path}. Reading class names from it.\")\n",
        "    try:\n",
        "\n",
        "        df_classes = pd.read_csv(classes_csv_path, header=None)\n",
        "        class_names = df_classes[0].tolist()\n",
        "\n",
        "        class_names = [name.strip() for name in class_names if name.strip()]\n",
        "        if not class_names:\n",
        "            print(\"Warning: _classes.csv found but appears empty or only whitespace. Falling back to folder names.\")\n",
        "    except Exception as e:\n",
        "        print(f\"Error reading _classes.csv: {e}. Falling back to folder names.\")\n",
        "        class_names = sorted(os.listdir(data_dir))\n",
        "\n",
        "        if '_classes.csv' in class_names:\n",
        "            class_names.remove('_classes.csv')\n",
        "else:\n",
        "    print(f\"No _classes.csv found at: {classes_csv_path}. Inferring class names from subfolder names.\")\n",
        "    class_names = sorted(os.listdir(data_dir))\n",
        "\n",
        "    if '_classes.csv' in class_names:\n",
        "        class_names.remove('_classes.csv')\n",
        "\n",
        "\n",
        "NUM_CLASSES = len(class_names)\n",
        "if NUM_CLASSES == 0:\n",
        "    print(\"Error: No classes found. Please check your dataset directory structure or _classes.csv file.\")\n",
        "    exit()\n"
      ]
    }
  ]
}